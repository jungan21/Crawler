{
 "cells": [
  {
   "cell_type": "code",
   "execution_count": 2,
   "metadata": {},
   "outputs": [
    {
     "name": "stdout",
     "output_type": "stream",
     "text": [
      "<class 'requests.models.Response'>\n",
      "200\n",
      "<!DOCTYPE html>\n",
      "<html>\n",
      "<head>\n",
      "<meta charset=\"utf-8\"/><script type=\"text/javascript\">window.NREUM||(NREUM={}),__nr_require=function(e,t,n){function r(n){if(!t[n]){var o=t[n]={exports:{}};e[n][0].call(o.exports,function(t){var o=e[n][1][t];return r(o||t)},o,o.exports)}return t[n].exports}if(\"function\"==typeof __nr_require)return __nr_require;for(var o=0;o<n.length;o++)r(n[o]);return r}({1:[function(e,t,n){function r(){}function o(e,t,n){return function(){return i(e,[f.now()].concat(u(arguments)),t?null:this,n),t?void 0:this}}var i=e(\"handle\"),a=e(2),u=e(3),c=e(\"ee\").get(\"tracer\"),f=e(\"loader\"),s=NREUM;\"undefined\"==typeof window.newrelic&&(newrelic=s);var p=[\"setPageViewName\",\"setCustomAttribute\",\"setErrorHandler\",\"finished\",\"addToTrace\",\"inlineHit\",\"addRelease\"],d=\"api-\",l=d+\"ixn-\";a(p,function(e,t){s[t]=o(d+t,!0,\"api\")}),s.addPageAction=o(d+\"addPageAction\",!0),s.setCurrentRouteName=o(d+\"routeName\",!0),t.exports=newrelic,s.interaction=function(){return(new r).get()};var m=r.prototype={createTracer:function(e,t){var n={},r=this,o=\"function\"==typeof t;return i(l+\"tracer\",[f.now(),e,n],r),function(){if(c.emit((o?\"\":\"no-\")+\"fn-start\",[f.now(),r,o],n),o)try{return t.apply(this,arguments)}catch(e){throw c.emit(\"fn-err\",[arguments,this,e],n),e}finally{c.emit(\"fn-end\",[f.now()],n)}}}};a(\"setName,setAttribute,save,ignore,onEnd,getContext,end,get\".split(\",\"),function(e,t){m[t]=o(l+t)}),newrelic.noticeError=function(e){\"string\"==typeof e&&(e=new Error(e)),i(\"err\",[e,f.now()])}},{}],2:[function(e,t,n){function r(e,t){var n=[],r=\"\",i=0;for(r in e)o.call(e,r)&&(n[i]=t(r,e[r]),i+=1);return n}var o=Object.prototype.hasOwnProperty;t.exports=r},{}],3:[function(e,t,n){function r(e,t,n){t||(t=0),\"undefined\"==typeof n&&(n=e?e.length:0);for(var r=-1,o=n-t||0,i=Array(o<0?0:o);++r<o;)i[r]=e[t+r];return i}t.exports=r},{}],4:[function(e,t,n){t.exports={exists:\"undefined\"!=typeof window.performance&&window.performance.timing&&\"undefined\"!=typeof window.performance.timing.navigationStart}},{}],ee:[function(e,t,n){function r(){}function o(e){function t(e){return e&&e instanceof r?e:e?c(e,u,i):i()}function n(n,r,o,i){if(!d.aborted||i){e&&e(n,r,o);for(var a=t(o),u=m(n),c=u.length,f=0;f<c;f++)u[f].apply(a,r);var p=s[y[n]];return p&&p.push([b,n,r,a]),a}}function l(e,t){v[e]=m(e).concat(t)}function m(e){return v[e]||[]}function w(e){return p[e]=p[e]||o(n)}function g(e,t){f(e,function(e,n){t=t||\"feature\",y[n]=t,t in s||(s[t]=[])})}var v={},y={},b={on:l,emit:n,get:w,listeners:m,context:t,buffer:g,abort:a,aborted:!1};return b}function i(){return new r}function a(){(s.api||s.feature)&&(d.aborted=!0,s=d.backlog={})}var u=\"nr@context\",c=e(\"gos\"),f=e(2),s={},p={},d=t.exports=o();d.backlog=s},{}],gos:[function(e,t,n){function r(e,t,n){if(o.call(e,t))return e[t];var r=n();if(Object.defineProperty&&Object.keys)try{return Object.defineProperty(e,t,{value:r,writable:!0,enumerable:!1}),r}catch(i){}return e[t]=r,r}var o=Object.prototype.hasOwnProperty;t.exports=r},{}],handle:[function(e,t,n){function r(e,t,n,r){o.buffer([e],r),o.emit(e,t,n)}var o=e(\"ee\").get(\"handle\");t.exports=r,r.ee=o},{}],id:[function(e,t,n){function r(e){var t=typeof e;return!e||\"object\"!==t&&\"function\"!==t?-1:e===window?0:a(e,i,function(){return o++})}var o=1,i=\"nr@id\",a=e(\"gos\");t.exports=r},{}],loader:[function(e,t,n){function r(){if(!x++){var e=h.info=NREUM.info,t=d.getElementsByTagName(\"script\")[0];if(setTimeout(s.abort,3e4),!(e&&e.licenseKey&&e.applicationID&&t))return s.abort();f(y,function(t,n){e[t]||(e[t]=n)}),c(\"mark\",[\"onload\",a()+h.offset],null,\"api\");var n=d.createElement(\"script\");n.src=\"https://\"+e.agent,t.parentNode.insertBefore(n,t)}}function o(){\"complete\"===d.readyState&&i()}function i(){c(\"mark\",[\"domContent\",a()+h.offset],null,\"api\")}function a(){return E.exists&&performance.now?Math.round(performance.now()):(u=Math.max((new Date).getTime(),u))-h.offset}var u=(new Date).getTime(),c=e(\"handle\"),f=e(2),s=e(\"ee\"),p=window,d=p.document,l=\"addEventListener\",m=\"attachEvent\",w=p.XMLHttpRequest,g=w&&w.prototype;NREUM.o={ST:setTimeout,SI:p.setImmediate,CT:clearTimeout,XHR:w,REQ:p.Request,EV:p.Event,PR:p.Promise,MO:p.MutationObserver};var v=\"\"+location,y={beacon:\"bam.nr-data.net\",errorBeacon:\"bam.nr-data.net\",agent:\"js-agent.newrelic.com/nr-1071.min.js\"},b=w&&g&&g[l]&&!/CriOS/.test(navigator.userAgent),h=t.exports={offset:u,now:a,origin:v,features:{},xhrWrappable:b};e(1),d[l]?(d[l](\"DOMContentLoaded\",i,!1),p[l](\"load\",r,!1)):(d[m](\"onreadystatechange\",o),p[m](\"onload\",r)),c(\"mark\",[\"firstbyte\",u],null,\"api\");var x=0,E=e(4)},{}]},{},[\"loader\"]);</script><script type=\"text/javascript\">window.NREUM||(NREUM={});NREUM.info={\"beacon\":\"bam.nr-data.net\",\"queueTime\":0,\"licenseKey\":\"ef18824fe0\",\"agent\":\"\",\"transactionName\":\"blcAZEYHWBEHAhANV1cdJEVaBUILCQ9LDFdUV1hZWgJTGg==\",\"applicationID\":\"63277633\",\"errorBeacon\":\"bam.nr-data.net\",\"applicationTime\":3}</script>\n",
      "<meta http-equiv=\"content-type\" content=\"text/html;charset=UTF-8\"/>\n",
      "<meta name=\"viewport\" content=\"width=device-width, initial-scale=1.0, maximum-scale=1.0, user-scalable=no\"/>\n",
      "<meta name=\"apple-mobile-web-app-capable\" content=\"yes\">\n",
      "<meta name=\"apple-touch-fullscreen\" content=\"yes\">\n",
      "<meta name=\"apple-mobile-web-app-status-bar-style\" content=\"default\">\n",
      "<meta name=\"description\" content=\"九章算法致力于让顶尖的工程师在线传授最优质的计算机课程，帮助更多中国人找到好工作\" />\n",
      "<meta name=\"Keywords\" content=\"Interview, Code, Google, Facebook, Linkedin, Amazon, Microsoft, LintCode\" />\n",
      "<title>\n",
      "九章算法 - 帮助更多中国人找到好工作，硅谷顶尖IT企业工程师实时在线授课为你传授面试技巧\n",
      "</title>\n",
      "<link rel=\"apple-touch-icon\" href=\"/static/pages-frontend/ico/60.png\">\n",
      "<link rel=\"apple-touch-icon\" sizes=\"76x76\" href=\"/static/pages-frontend/ico/76.png\">\n",
      "<link rel=\"apple-touch-icon\" sizes=\"120x120\" href=\"/static/pages-frontend/ico/120.png\">\n",
      "<link rel=\"apple-touch-icon\" sizes=\"152x152\" href=\"/static/pages-frontend/ico/152.png\">\n",
      "<link rel=\"icon shortcut\" type=\"image/x-icon\" href=\"/favicon.ico\" />\n",
      "<link href=\"/static/plugins/pace/pace-theme-flash.css\" rel=\"stylesheet\" type=\"text/css\" />\n",
      "<link href=\"/static/plugins/bootstrap/css/bootstrap.min.css\" rel=\"stylesheet\" type=\"text/css\" />\n",
      "<link href=\"/static/plugins/font-awesome/css/font-awesome.css\" rel=\"stylesheet\" type=\"text/css\" />\n",
      "<link href=\"/static/plugins/jquery-dynatree/skin/ui.dynatree.css\" rel=\"stylesheet\" type=\"text/css\" media=\"screen\" />\n",
      "<link href=\"/static/pages3/css/pages.css\" rel=\"stylesheet\" type=\"text/css\" />\n",
      "<link href=\"/static/pages3/css/pages-icons.min.css\" rel=\"stylesheet\" type=\"text/css\" />\n",
      "<link rel=\"stylesheet\" href=\"//media-cdn.jiuzhang.com/cdn/skin.css\">\n",
      "<link rel=\"stylesheet\" href=\"/static/css/pages-fix.min.css\"/>\n",
      "<link href=\"/static/plugins/simplemde/simplemde.min.css\" rel=\"stylesheet\" type=\"text/css\" />\n",
      "<link href=\"//imgcache.qq.com/open/qcloud/video/tcplayer/tcplayer.css\" rel=\"stylesheet\">\n",
      "<link href=\"/static/react/ninechapter-f8de88569f37bbaa9db0.css\" rel=\"stylesheet\"></head>\n",
      "<body class=\"pace-white\">\n",
      "<div id=\"react-component\" style=\"height: 100%\">\n",
      "<div class=\"text-center p-t-100\">\n",
      "<i class=\"fa fa-spinner fa-3x fa-spin\"></i>\n",
      "</div>\n",
      "</div>\n",
      "<div id=\"react-portal\"></div>\n",
      "<script src=\"/static/plugins/pace/pace.min.js\"></script>\n",
      "<script src=\"/static/plugins/jquery/jquery-1.11.1.min.js\"></script>\n",
      "<script src=\"/static/pages-compile/js/modernizr.min.js\"></script>\n",
      "<script src=\"/static/pages-admin/js/pages.min.js\"></script>\n",
      "<script src=\"/static/pages-frontend/js/pages.frontend.min.js\"></script>\n",
      "<script src=\"/static/plugins/jquery-ui/jquery-ui.min.js\"></script>\n",
      "<script src=\"/static/plugins/jquery-dynatree/jquery.dynatree.min.js\"></script>\n",
      "<script src=\"/static/plugins/jquery-textrange/jquery-textrange.js\"></script>\n",
      "<script src=\"/static/plugins/bootstrap/js/bootstrap.min.js\"></script>\n",
      "<script src=\"/static/plugins/simplemde/simplemde.min.js\"></script>\n",
      "<script src=\"/static/plugins/videojs/video.js\"></script>\n",
      "<script src=\"//media-cdn.jiuzhang.com/cdn/flowplayer.min.js\"></script>\n",
      "<script src=\"//media-cdn.jiuzhang.com/cdn/flowplayer.hlsjs.min.js\"></script>\n",
      "<script src=\"//imgcache.qq.com/open/qcloud/video/tcplayer/lib/hls.min.0.8.8.js\"></script>\n",
      "<script src=\"//imgcache.qq.com/open/qcloud/video/tcplayer/tcplayer.min.js\"></script>\n",
      "<script>(function(i,s,o,g,r,a,m){i['GoogleAnalyticsObject']=r;i[r]=i[r]||function(){(i[r].q=i[r].q||[]).push(arguments)},i[r].l=1*new Date();a=s.createElement(o),m=s.getElementsByTagName(o)[0];a.async=1;a.src=g;m.parentNode.insertBefore(a,m)\n",
      "})(window,document,'script','https://www.google-analytics.com/analytics.js','ga');ga('create','UA-6324678-13','auto');ga('send','pageview');</script>\n",
      "<script async src=\"https://www.googletagmanager.com/gtag/js?id=AW-808918226\"></script>\n",
      "<script>window.dataLayer =window.dataLayer ||[];function gtag(){dataLayer.push(arguments);}\n",
      "gtag('js',new Date());gtag('config','AW-808918226');</script>\n",
      "<script>window.__INITIAL_AUTH_STORE__ =JSON.parse('{\\u0022detail\\u0022: {\\u0022is_authenticated\\u0022: false, \\u0022loading\\u0022: false, \\u0022is_staff\\u0022: false, \\u0022is_admin\\u0022: false, \\u0022is_tutor\\u0022: false}}');</script>\n",
      "<script src=\"https://qiyukf.com/script/2c00e340766c27382852016ebaa11914.js?hidden=1\" async=\"async\"></script>\n",
      "<script type=\"text/javascript\" src=\"/static/react/vendor-4d8325043d1b2eccebad.js\"></script><script type=\"text/javascript\" src=\"/static/react/ninechapter-f8de88569f37bbaa9db0.js\"></script></body>\n",
      "</html>\n",
      "\n"
     ]
    }
   ],
   "source": [
    "import requests\n",
    "\n",
    "response = requests.get('https://www.jiuzhang.com')\n",
    "\n",
    "print(type(response))\n",
    "print(response.status_code)\n",
    "print(response.text)"
   ]
  },
  {
   "cell_type": "code",
   "execution_count": 3,
   "metadata": {},
   "outputs": [
    {
     "name": "stdout",
     "output_type": "stream",
     "text": [
      "<class 'requests.models.Response'>\n"
     ]
    }
   ],
   "source": [
    "params = {'tags': 'guidance'}\n",
    "response = requests.get('https://www.jiuzhang.com', params=params)\n",
    "print(type(response))\n"
   ]
  },
  {
   "cell_type": "code",
   "execution_count": 5,
   "metadata": {},
   "outputs": [
    {
     "name": "stdout",
     "output_type": "stream",
     "text": [
      "504\n",
      "b'{\"msg\":\"timeout\",\"code\":\"50402005\",\"id\":\"4c0439e0bda54ccf0f1d6d4f77061cbd\"}'\n"
     ]
    }
   ],
   "source": [
    "session = requests.Session()\n",
    "\n",
    "headers = {\n",
    "\t'Accept': 'text/html,application/xhtml+xml,application/xml;q=0.9,image/webp,image/apng,*/*;q=0.8',\n",
    "\t'Accept-Encoding': 'gzip, deflate, br',\n",
    "\t'Accept-Language': 'en-US,en;q=0.9,zh-CN;q=0.8,zh;q=0.7',\n",
    "\t'Connection': 'keep-alive',\n",
    "\t'Host': 'www.jiuzhang.com',\n",
    "\t'User-Agent': 'Mozilla/5.0 (Macintosh; Intel Mac OS X 10_13_5) AppleWebKit/537.36 (KHTML, like Gecko) Chrome/68.0.3440.106 Safari/537.36',\n",
    "\t'Referer': 'https://www.jiuzhang.com/',\n",
    "}\n",
    "\n",
    "login_data = {\n",
    "\t'email': 'YOUR_EMAIL',\n",
    "\t'password': 'YOUR_PASSWORD',\n",
    "}\n",
    "\n",
    "response = session.post(url='https://www.jiuzhang.com/api/accounts/login/',\n",
    "\t\t\t\t\t\tdata=login_data,\n",
    "                        headers=headers)\n",
    "\n",
    "response = session.get('https://www.jiuzhang.com/accounts/profile/')\n",
    "print(response.status_code)\n",
    "print(response.content)\n"
   ]
  },
  {
   "cell_type": "code",
   "execution_count": 6,
   "metadata": {},
   "outputs": [
    {
     "name": "stdout",
     "output_type": "stream",
     "text": [
      "type=1&query=%E4%B9%9D%E7%AB%A0%E7%AE%97%E6%B3%95\n"
     ]
    }
   ],
   "source": [
    "from urllib import parse\n",
    "from collections import OrderedDict\n",
    "\n",
    "query = OrderedDict()\n",
    "query['type'] = 1\n",
    "query['query'] = '九章算法'\n",
    "\n",
    "print(parse.urlencode(query))"
   ]
  },
  {
   "cell_type": "code",
   "execution_count": 10,
   "metadata": {},
   "outputs": [
    {
     "name": "stdout",
     "output_type": "stream",
     "text": [
      "<script>\r\n",
      "        var sst = {h_s :(new Date()).getTime()};\r\n",
      "        var newpage = 1;\r\n",
      "        var passportUserId = \"\";\r\n",
      "        var oldQuery = \"九章算法\";\r\n",
      "        var gbkQuery = \"%BE%C5%D5%C2%CB%E3%B7%A8\";\r\n",
      "        var uuid = \"d3593d96-9a9a-4bc2-8d85-cf0ef8cca5c7\";\r\n",
      "        var keywords_string = \"九章算法\";\r\n",
      "        var sab = \"5\";\r\n",
      "        var keywords = oldQuery.split(' ');\r\n",
      "        var now = 1535906847004;\r\n",
      "        var idc = \"js\";\r\n",
      "        var clientIp = \"115.192.187.99\";\r\n",
      "        var isIpad = false;\r\n",
      "        //var article_anti_url = \"\";\r\n",
      "    </script>\n",
      "[<script>\r\n",
      "        var sst = {h_s :(new Date()).getTime()};\r\n",
      "        var newpage = 1;\r\n",
      "        var passportUserId = \"\";\r\n",
      "        var oldQuery = \"九章算法\";\r\n",
      "        var gbkQuery = \"%BE%C5%D5%C2%CB%E3%B7%A8\";\r\n",
      "        var uuid = \"d3593d96-9a9a-4bc2-8d85-cf0ef8cca5c7\";\r\n",
      "        var keywords_string = \"九章算法\";\r\n",
      "        var sab = \"5\";\r\n",
      "        var keywords = oldQuery.split(' ');\r\n",
      "        var now = 1535906847004;\r\n",
      "        var idc = \"js\";\r\n",
      "        var clientIp = \"115.192.187.99\";\r\n",
      "        var isIpad = false;\r\n",
      "        //var article_anti_url = \"\";\r\n",
      "    </script>, <script>\r\n",
      "        //以下为动态的全局 js，防止外部网站通过 window.opener.location 篡改我们的页面，以后不要通过 window.location 获取当前地址，只能用 document.location\r\n",
      "        \r\n",
      "    </script>, <script charset=\"gbk\" src=\"/js/jquery-1.11.0.min.js\"></script>, <script src=\"/new/pc/js/https_util.min.js?v=20180607\"></script>, <script src=\"/js/lib/juicer-min.js\"></script>, <script src=\"/new/weixin/js/common.min.js?v=20180607\"></script>, <script src=\"/new/pc/js/common.min.js?v=20180607\"></script>, <script>\r\n",
      "        var uigs_para = {\r\n",
      "            \"uigs_t\": \"1535906847004\",\r\n",
      "            \"uigs_productid\": \"vs_web\",\r\n",
      "            \"terminal\"      : \"web\",\r\n",
      "            \"vstype\"        : \"weixin\",\r\n",
      "            \"pagetype\"      : \"result\",\r\n",
      "            \"channel\"       : \"result_account\",\r\n",
      "            \"s_from\"        : \"input\",\r\n",
      "            \"sourceid\"      : \"\",\r\n",
      "            \"type\"          : \"weixin_search_pc\",\r\n",
      "            \"uigs_cookie\"   : \"SUID,sct\",\r\n",
      "            \"uuid\"          : \"d3593d96-9a9a-4bc2-8d85-cf0ef8cca5c7\",\r\n",
      "            \"query\"         : \"九章算法\",\r\n",
      "            \"weixintype\"    : \"1\",\r\n",
      "            \"exp_status\"    : \"-1\",\r\n",
      "            \"exp_id_list\"   : \"0_0\",\r\n",
      "            \"wuid\"          : \"\",\r\n",
      "            \"snuid\"         : \"17CEB406747001925B70D75C75E35623\",\r\n",
      "            \"rn\"            : 1,\r\n",
      "            \"login\"         : passportUserId ? \"1\" : \"0\",\r\n",
      "            \"uphint\"        : 0,\r\n",
      "            \"bottomhint\"    : 0,\r\n",
      "            \"page\"          : \"1\"\r\n",
      "        };\r\n",
      "    </script>, <script id=\"erweima_tpl\" type=\"text/template\">\r\n",
      "    <a href=\"javascript:void(0)\" class=\"close\" data-except=\"1\" uigs=\"other_float_weixin_close\"></a>\r\n",
      "    <div class=\"fxico-box2\">微信扫一扫关注<br/><img width=\"104\" height=\"104\" src=\"${imgsrc}\"/></div>\r\n",
      "</script>, <script>\r\n",
      "    //高级工具参数对象\r\n",
      "    var toolParas = {\r\n",
      "        tsn : '0',\r\n",
      "        ft : '',\r\n",
      "        et : '',\r\n",
      "        interation : '',\r\n",
      "        wxid : '',\r\n",
      "        usip : ''\r\n",
      "    };\r\n",
      "    var from_tool = '0';\r\n",
      "</script>, <script>document.write(authname('2'))</script>, <script>document.write(timeConvert('1535756430'))</script>, <script>var account_anti_url = \"/websearch/weixin/pc/anti_account.jsp?t=1535906846978&signature=lu7ETcleH2JyvTIgMFgYbr3UMqD7eCKhiUwtOeBsXC8fFOqx44c79AIYxXkl01GwYS5bJQc7O05TBZdhFGfJtw==\";</script>, <script src=\"/websearch/wexinurlenc_sogou_profile.jsp\"></script>, <script src=\"/new/pc/js/account.min.js?v=20170315\"></script>, <script>\r\n",
      "        var WX_SUGG_PAGE_FROM=\"pcGzhSearch\";\r\n",
      "        \r\n",
      "        var SugPara = {\r\n",
      "            \"bigsize\":true,\r\n",
      "            \"enableSug\":true,\r\n",
      "            \"sugType\":\"wxpub\",\r\n",
      "            \"domain\":\"w.sugg.sogou.com\",\r\n",
      "            \"productId\":\"web\",\r\n",
      "            \"sugFormName\":\"sf\",\r\n",
      "            \"submitId\":\"stb\",\r\n",
      "            \"suggestRid\":\"01015002\",\r\n",
      "            \"normalRid\":\"01019900\",\r\n",
      "            \"oms\":1,\r\n",
      "            \"nofixwidth\":1,\r\n",
      "            \"useParent\":1\r\n",
      "        };\r\n",
      "        uigs_para.exp_id = \"null_0-\";\r\n",
      "        uigs_para.exp_id = uigs_para.exp_id.substring(0, uigs_para.exp_id.length - 1);\r\n",
      "    </script>, <script src=\"/new/weixin/js/uigs.min.js?v=20180607\"></script>, <script src=\"/new/pc/js/log.min.js?v=20170321\"></script>, <script src=\"/new/pc/js/event.min.js?v=20180607\"></script>, <script src=\"/new/pc/js/search.min.js?v=20161107\"></script>, <script src=\"/new/pc/js/suggestion.min.js?v=20180607\"></script>, <script src=\"/new/weixin/js/form.min.js?v=20170101\"></script>]\n"
     ]
    }
   ],
   "source": [
    "from bs4 import BeautifulSoup\n",
    "\n",
    "html = requests.get('http://weixin.sogou.com/weixin?type=1&s_from=input&query=%E4%B9%9D%E7%AB%A0%E7%AE%97%E6%B3%95&ie=utf8&_sug_=n&_sug_type_=').text\n",
    "\n",
    "soup = BeautifulSoup(html, features='lxml')\n",
    "print(soup.script)\n",
    "print(soup.find_all('script'))"
   ]
  },
  {
   "cell_type": "code",
   "execution_count": 11,
   "metadata": {},
   "outputs": [
    {
     "data": {
      "text/plain": [
       "[<title>九章算法的相关微信公众号 – 搜狗微信搜索</title>]"
      ]
     },
     "execution_count": 11,
     "metadata": {},
     "output_type": "execute_result"
    }
   ],
   "source": [
    "soup.select('title')"
   ]
  },
  {
   "cell_type": "code",
   "execution_count": 12,
   "metadata": {},
   "outputs": [
    {
     "data": {
      "text/plain": [
       "[<ul class=\"news-list2\">\n",
       " <!-- a -->\n",
       " <li d=\"oIWsFtw_8xtVhkXUA1XwJ3jxE3fM\" id=\"sogou_vr_11002301_box_0\">\n",
       " <div class=\"gzh-box2\">\n",
       " <div class=\"img-box\">\n",
       " <a href=\"http://mp.weixin.qq.com/profile?src=3&amp;timestamp=1535906846&amp;ver=1&amp;signature=0MRsaIdeeICQ9Zrlf95P6J5*6W6xgv0zPcm*D831zrOa76eeoBSRljvHVBinujJLSJl7sFObH6uc3FWwaJJgXw==\" target=\"_blank\" uigs=\"account_image_0\"><span></span><img onerror=\"errorHeadImage(this)\" onload=\"resizeImage(this,58,58)\" src=\"//img01.sogoucdn.com/app/a/100520090/oIWsFtw_8xtVhkXUA1XwJ3jxE3fM\"/></a>\n",
       " </div>\n",
       " <div class=\"txt-box\">\n",
       " <p class=\"tit\">\n",
       " <a href=\"http://mp.weixin.qq.com/profile?src=3&amp;timestamp=1535906846&amp;ver=1&amp;signature=0MRsaIdeeICQ9Zrlf95P6J5*6W6xgv0zPcm*D831zrOa76eeoBSRljvHVBinujJLSJl7sFObH6uc3FWwaJJgXw==\" target=\"_blank\" uigs=\"account_name_0\"><em><!--red_beg-->九章算法<!--red_end--></em></a><i></i>\n",
       " </p>\n",
       " <p class=\"info\">微信号：<label name=\"em_weixinhao\">ninechapter</label>\n",
       " </p>\n",
       " </div>\n",
       " <div class=\"ew-pop\">\n",
       " <a class=\"code\" href=\"javascript:void(0)\"><img height=\"24\" src=\"/new/pc/images/ico_ewm.png\" width=\"24\"/></a><span class=\"pop\" style=\"display:none;\"><i></i>微信扫一扫关注<br/>\n",
       " <img data-id=\"oIWsFtw_8xtVhkXUA1XwJ3jxE3fM\" height=\"104\" onerror=\"qrcodeShowError('http://mp.weixin.qq.com/rr?src=3&amp;timestamp=1535906846&amp;ver=1&amp;signature=h2Fewr1zQL8TqdneqDpC7cfAVKXwMGKRHC3SZ-Gr1RbDN5lrhkeVDjBRkqWMOcAX1bSNMYqrp-UVXVDjOw19sSjVyHQBOCr7NVt-On785Rk=',4,'oIWsFtw_8xtVhkXUA1XwJ3jxE3fM')\" src=\"http://mp.weixin.qq.com/rr?src=3&amp;timestamp=1535906846&amp;ver=1&amp;signature=h2Fewr1zQL8TqdneqDpC7cfAVKXwMGKRHC3SZ-Gr1RbDN5lrhkeVDjBRkqWMOcAX1bSNMYqrp-UVXVDjOw19sSjVyHQBOCr7NVt-On785Rk=\" width=\"104\"/><img class=\"shot-img\" height=\"32\" onerror=\"errorHeadImage(this)\" src=\"//img01.sogoucdn.com/app/a/100520090/oIWsFtw_8xtVhkXUA1XwJ3jxE3fM\" width=\"32\"/></span>\n",
       " </div>\n",
       " </div>\n",
       " <dl>\n",
       " <dt>功能介绍：</dt>\n",
       " <dd>专业的北美IT求职经验分享、技术交流社区,帮助你找到好的IT工作.由硅谷顶尖IT企业工程师维护.提供专业的<em><!--red_beg-->算法<!--red_end--></em>培训/面试咨询,官网 www.jiuzhang.com</dd>\n",
       " </dl>\n",
       " <dl>\n",
       " <dt>\n",
       " <script>document.write(authname('2'))</script>认证：</dt>\n",
       " <dd>览众科技(北京)有限公司</dd>\n",
       " </dl>\n",
       " <dl>\n",
       " <dt>最近文章：</dt>\n",
       " <dd>\n",
       " <a href=\"http://mp.weixin.qq.com/s?src=11&amp;timestamp=1535906846&amp;ver=1098&amp;signature=Yt4DoG54czD3zF*YSo5mUNhpO-aDIuxdWYQ9BzE0hKK5NWuegmOeahlaZZASEVG6UqkMF564P-*ae*V5yYrn2XvNp6vS7BktlbnSjubOsLs592G1wWnQcXSgl8YRkw3v&amp;new=1\" target=\"_blank\" uigs=\"account_article_0\">精彩讲座回放 | 如何骑驴找马,9年北京+3年硅谷,教你拿下顶级offer</a><span><script>document.write(timeConvert('1535756430'))</script></span>\n",
       " </dd>\n",
       " </dl>\n",
       " </li>\n",
       " <!-- z -->\n",
       " </ul>]"
      ]
     },
     "execution_count": 12,
     "metadata": {},
     "output_type": "execute_result"
    }
   ],
   "source": [
    "soup.select('.news-list2')"
   ]
  },
  {
   "cell_type": "code",
   "execution_count": 14,
   "metadata": {},
   "outputs": [
    {
     "data": {
      "text/plain": [
       "[<script charset=\"gbk\" src=\"/js/jquery-1.11.0.min.js\"></script>,\n",
       " <script src=\"/new/pc/js/https_util.min.js?v=20180607\"></script>,\n",
       " <script src=\"/js/lib/juicer-min.js\"></script>,\n",
       " <script src=\"/new/weixin/js/common.min.js?v=20180607\"></script>,\n",
       " <script src=\"/new/pc/js/common.min.js?v=20180607\"></script>,\n",
       " <script src=\"/new/pc/js/account.min.js?v=20170315\"></script>,\n",
       " <script src=\"/new/weixin/js/uigs.min.js?v=20180607\"></script>,\n",
       " <script src=\"/new/pc/js/log.min.js?v=20170321\"></script>,\n",
       " <script src=\"/new/pc/js/event.min.js?v=20180607\"></script>,\n",
       " <script src=\"/new/pc/js/search.min.js?v=20161107\"></script>,\n",
       " <script src=\"/new/pc/js/suggestion.min.js?v=20180607\"></script>,\n",
       " <script src=\"/new/weixin/js/form.min.js?v=20170101\"></script>]"
      ]
     },
     "execution_count": 14,
     "metadata": {},
     "output_type": "execute_result"
    }
   ],
   "source": [
    "import re\n",
    "soup.find_all('script', {'src': re.compile('.*.min.js')})"
   ]
  },
  {
   "cell_type": "code",
   "execution_count": 15,
   "metadata": {},
   "outputs": [
    {
     "name": "stdout",
     "output_type": "stream",
     "text": [
      "['cool', 'good']\n"
     ]
    }
   ],
   "source": [
    "t = 'Linpz is nice ! cool ! good !'\n",
    "\n",
    "r = re.compile('\\w*oo\\w*')\n",
    "print(r.findall(t))"
   ]
  },
  {
   "cell_type": "code",
   "execution_count": null,
   "metadata": {},
   "outputs": [],
   "source": []
  }
 ],
 "metadata": {
  "kernelspec": {
   "display_name": "Python 3",
   "language": "python",
   "name": "python3"
  },
  "language_info": {
   "codemirror_mode": {
    "name": "ipython",
    "version": 3
   },
   "file_extension": ".py",
   "mimetype": "text/x-python",
   "name": "python",
   "nbconvert_exporter": "python",
   "pygments_lexer": "ipython3",
   "version": "3.6.4"
  }
 },
 "nbformat": 4,
 "nbformat_minor": 2
}
